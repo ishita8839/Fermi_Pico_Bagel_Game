{
 "cells": [
  {
   "cell_type": "code",
   "execution_count": 1,
   "metadata": {},
   "outputs": [
    {
     "data": {
      "text/plain": [
       "str"
      ]
     },
     "execution_count": 1,
     "metadata": {},
     "output_type": "execute_result"
    }
   ],
   "source": [
    "original_number = str(int(input()))\n",
    "type(original_number)"
   ]
  },
  {
   "cell_type": "code",
   "execution_count": 2,
   "metadata": {},
   "outputs": [
    {
     "data": {
      "text/plain": [
       "str"
      ]
     },
     "execution_count": 2,
     "metadata": {},
     "output_type": "execute_result"
    }
   ],
   "source": [
    "guess_number = input(\"Enter number\")\n",
    "type(guess_number)"
   ]
  },
  {
   "cell_type": "code",
   "execution_count": 3,
   "metadata": {},
   "outputs": [],
   "source": [
    "if len(guess_number) != len(original_number):\n",
    "    print(f'Enter {len(original_number)} digit number.')"
   ]
  },
  {
   "cell_type": "code",
   "execution_count": 4,
   "metadata": {},
   "outputs": [],
   "source": [
    "if len(guess_number)  != len(set(guess_number)):\n",
    "    print('Duplicate number')"
   ]
  },
  {
   "cell_type": "code",
   "execution_count": 5,
   "metadata": {},
   "outputs": [
    {
     "name": "stdout",
     "output_type": "stream",
     "text": [
      "Fermi Fermi Fermi \n",
      "\n",
      "You won !!\n"
     ]
    }
   ],
   "source": [
    "if (int(guess_number) - int(original_number)) == 0 :\n",
    "    print('Fermi '*len(original_number))\n",
    "    print('\\nYou won !!')\n",
    "    "
   ]
  },
  {
   "cell_type": "code",
   "execution_count": 6,
   "metadata": {},
   "outputs": [],
   "source": [
    "output = []"
   ]
  },
  {
   "cell_type": "code",
   "execution_count": 7,
   "metadata": {},
   "outputs": [],
   "source": [
    "for i in range(len(original_number)): \n",
    "    for j in range(len(guess_number)):     \n",
    "        if original_number[i] == guess_number[j]: \n",
    "            if i == j:               \n",
    "                output.append('Fermi')\n",
    "            else:\n",
    "                output.append('Pico')"
   ]
  },
  {
   "cell_type": "code",
   "execution_count": 8,
   "metadata": {},
   "outputs": [
    {
     "name": "stdout",
     "output_type": "stream",
     "text": [
      " Fermi Fermi Fermi\n"
     ]
    }
   ],
   "source": [
    "output_string = ''\n",
    "\n",
    "for item in output :\n",
    "    output_string = output_string + ' ' + item \n",
    "    \n",
    "print(output_string)"
   ]
  },
  {
   "cell_type": "code",
   "execution_count": 9,
   "metadata": {},
   "outputs": [
    {
     "name": "stdout",
     "output_type": "stream",
     "text": [
      " Fermi Fermi Fermi\n"
     ]
    }
   ],
   "source": [
    "if len(output) == 0:           \n",
    "    print('Bagels')\n",
    "else:\n",
    "    print(output_string)"
   ]
  },
  {
   "cell_type": "code",
   "execution_count": 10,
   "metadata": {},
   "outputs": [
    {
     "name": "stdout",
     "output_type": "stream",
     "text": [
      " Bagels\n",
      " Bagels\n",
      " Fermi\n",
      " Fermi Pico\n",
      " Fermi Fermi\n",
      " Fermi  Fermi  Fermi \n",
      "\n",
      "You won !!\n"
     ]
    }
   ],
   "source": [
    "print(\"Fermi-Pico-Bagel Game\")\n",
    "original_number = '489' \n",
    " \n",
    "\n",
    "while True :\n",
    "    output = []\n",
    "    guess_number = input('\\nGuess the number: ')\n",
    "    \n",
    "    if len((guess_number)) != len(original_number):\n",
    "        print(f'Enter {len(original_number)} digit number')\n",
    "        continue\n",
    "        \n",
    "    if len(guess_number)  != len(set(guess_number)):\n",
    "        print('Duplicate number')\n",
    "        continue\n",
    "    \n",
    "    if (int(guess_number) - int(original_number)) == 0 :\n",
    "        print(' Fermi '*len(original_number))\n",
    "        print('\\nYou won !!')\n",
    "        break\n",
    "    \n",
    "    for i in range(len(original_number)): \n",
    "        for j in range(len(guess_number)):     \n",
    "            if original_number[i] == guess_number[j]: \n",
    "                if i == j:               \n",
    "                    output.append('Fermi')\n",
    "                else:\n",
    "                    output.append('Pico')\n",
    "                    \n",
    "    output_string = ''\n",
    "    for item in output :\n",
    "        output_string = output_string + ' ' + item \n",
    "        \n",
    "    \n",
    "    if len(output) == 0:           \n",
    "        print(' Bagels')\n",
    "    else:\n",
    "        print(output_string)"
   ]
  }
 ],
 "metadata": {
  "kernelspec": {
   "display_name": "Python 3",
   "language": "python",
   "name": "python3"
  },
  "language_info": {
   "codemirror_mode": {
    "name": "ipython",
    "version": 3
   },
   "file_extension": ".py",
   "mimetype": "text/x-python",
   "name": "python",
   "nbconvert_exporter": "python",
   "pygments_lexer": "ipython3",
   "version": "3.11.5"
  }
 },
 "nbformat": 4,
 "nbformat_minor": 2
}
